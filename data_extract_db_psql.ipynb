{
 "cells": [
  {
   "cell_type": "code",
   "execution_count": 104,
   "id": "0bbdfb36",
   "metadata": {},
   "outputs": [],
   "source": [
    "%reset -f"
   ]
  },
  {
   "cell_type": "code",
   "execution_count": 105,
   "id": "2b250b9c",
   "metadata": {},
   "outputs": [
    {
     "name": "stdout",
     "output_type": "stream",
     "text": [
      "Interactive namespace is empty.\n"
     ]
    }
   ],
   "source": [
    "%who"
   ]
  },
  {
   "cell_type": "markdown",
   "id": "4a718609",
   "metadata": {},
   "source": [
    "### Подключение и извлечение данных из БД"
   ]
  },
  {
   "cell_type": "code",
   "execution_count": 106,
   "id": "c3bfbb89",
   "metadata": {},
   "outputs": [],
   "source": [
    "import psycopg2\n",
    "import pandas as pd\n",
    "conf = {\n",
    "    'dbname': 'demo',\n",
    "    'user': 'user',\n",
    "    'password': 'user12345678',\n",
    "    'host': 'localhost'\n",
    "}"
   ]
  },
  {
   "cell_type": "code",
   "execution_count": 107,
   "id": "252a9c6f",
   "metadata": {},
   "outputs": [],
   "source": [
    "class DataBase(object):\n",
    "    def __init__(self, params: dict):\n",
    "        self.params = params\n",
    "        self.conn = None\n",
    "\n",
    "    def connection_db(self):\n",
    "        connect = psycopg2.connect(**self.params)\n",
    "        self.conn = connect\n",
    "\n",
    "    def close_connection_db(self):\n",
    "        self.conn.close()\n",
    "\n",
    "\n",
    "class WorkDataBase(object):\n",
    "    def __init__(self, params):\n",
    "        self.params = params\n",
    "        self.database = DataBase(params)\n",
    "        self.cursor = None\n",
    "        self.tables = []\n",
    "\n",
    "    def create_cursor_database(self):\n",
    "        self.database.connection_db()\n",
    "        self.cursor = self.database.conn.cursor()\n",
    "\n",
    "    def get_tables(self):\n",
    "        self.create_cursor_database()\n",
    "        self.cursor.execute(\"\"\"\n",
    "            SELECT table_name FROM information_schema.tables\n",
    "            WHERE table_schema = 'public'\n",
    "            ORDER BY table_name ASC\n",
    "        \"\"\")\n",
    "        self.tables = [table[0] for table in self.cursor.fetchall()]\n",
    "        self.database.close_connection_db()\n",
    "\n",
    "    def get_info_tables(self):\n",
    "        self.create_cursor_database()\n",
    "        summary = {\n",
    "            'empty': [],\n",
    "            'no_empty': {}\n",
    "        }\n",
    "\n",
    "        for table in self.tables:\n",
    "            self.cursor.execute(f\"SELECT * FROM {table} LIMIT 50\")\n",
    "            struct_table = self.cursor.description\n",
    "            data = self.cursor.fetchall()\n",
    "            if not data:\n",
    "                summary['empty'].append(table)\n",
    "                continue\n",
    "\n",
    "            summary['no_empty'].setdefault(table, dict())\n",
    "            for row in data:\n",
    "                for n in range(len(row)):\n",
    "                    summary['no_empty'][table].setdefault(struct_table[n].name, [])\n",
    "                    summary['no_empty'][table][struct_table[n].name].append(str(row[n]))\n",
    "        self.database.close_connection_db()\n",
    "        \n",
    "        return summary"
   ]
  },
  {
   "cell_type": "code",
   "execution_count": 108,
   "id": "1d54bb6b",
   "metadata": {},
   "outputs": [],
   "source": [
    "connect_db1 = WorkDataBase(conf)\n",
    "connect_db1.get_tables()\n",
    "all_tables = connect_db1.tables\n",
    "summary = connect_db1.get_info_tables()"
   ]
  },
  {
   "cell_type": "markdown",
   "id": "29b98beb",
   "metadata": {},
   "source": [
    "### Подготовка и экспорт данных в Excel"
   ]
  },
  {
   "cell_type": "code",
   "execution_count": null,
   "id": "7af1fc8c",
   "metadata": {},
   "outputs": [],
   "source": [
    "len(all_tables)"
   ]
  },
  {
   "cell_type": "code",
   "execution_count": 115,
   "id": "a628f85e",
   "metadata": {},
   "outputs": [],
   "source": [
    "no_empty = [key for key in summary['no_empty'].keys()]\n",
    "len(no_empty)"
   ]
  },
  {
   "cell_type": "code",
   "execution_count": 111,
   "id": "ee9657e5",
   "metadata": {},
   "outputs": [],
   "source": [
    "def check_empty(table):\n",
    "    if table in no_empty:\n",
    "        return \"NO\"\n",
    "    return \"YES\"\n",
    "\n",
    "df_all_tables = pd.DataFrame({\n",
    "    'NAME_TABLES': all_tables,\n",
    "})\n",
    "\n",
    "df_all_tables['EMPTY'] = df_all_tables['NAME_TABLES'].apply(check_empty)"
   ]
  },
  {
   "cell_type": "code",
   "execution_count": 112,
   "id": "c206e855",
   "metadata": {},
   "outputs": [],
   "source": [
    "with pd.ExcelWriter('data.xlsx') as docum:\n",
    "    df_all_tables.to_excel(docum, sheet_name='SUMMARY', index=False)"
   ]
  },
  {
   "cell_type": "code",
   "execution_count": 113,
   "id": "2a5f34b1",
   "metadata": {},
   "outputs": [],
   "source": [
    "with pd.ExcelWriter('data.xlsx', mode='a') as docum:\n",
    "    for table in no_empty:\n",
    "        df_table = pd.DataFrame(summary['no_empty'][table])\n",
    "        df_table.to_excel(docum, sheet_name=table, index=False)\n",
    "        "
   ]
  },
  {
   "cell_type": "code",
   "execution_count": null,
   "id": "714d90ae",
   "metadata": {},
   "outputs": [],
   "source": [
    "len(pd.ExcelFile('data.xlsx').sheet_names)"
   ]
  }
 ],
 "metadata": {
  "kernelspec": {
   "display_name": "Python 3 (ipykernel)",
   "language": "python",
   "name": "python3"
  },
  "language_info": {
   "codemirror_mode": {
    "name": "ipython",
    "version": 3
   },
   "file_extension": ".py",
   "mimetype": "text/x-python",
   "name": "python",
   "nbconvert_exporter": "python",
   "pygments_lexer": "ipython3",
   "version": "3.8.0"
  }
 },
 "nbformat": 4,
 "nbformat_minor": 5
}
